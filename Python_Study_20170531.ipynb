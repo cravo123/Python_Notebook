{
 "cells": [
  {
   "cell_type": "markdown",
   "metadata": {},
   "source": [
    "Documentation strings in function,\n",
    "The first line should always be a short, concise summary of the object’s purpose. For brevity, it should not explicitly state the object’s name or type, since these are available by other means (except if the name happens to be a verb describing a function’s operation). This line should begin with a capital letter and end with a period.\n",
    "\n",
    "If there are more lines in the documentation string, the second line should be blank, visually separating the summary from the rest of the description. The following lines should be one or more paragraphs describing the object’s calling conventions, its side effects, etc."
   ]
  },
  {
   "cell_type": "code",
   "execution_count": 48,
   "metadata": {
    "collapsed": true
   },
   "outputs": [],
   "source": [
    "def foo():\n",
    "    ''' This is summary\n",
    "    \n",
    "    This is the body of docstring\n",
    "    '''\n",
    "    pass"
   ]
  },
  {
   "cell_type": "markdown",
   "metadata": {},
   "source": [
    "Function arguments could be required, optional, ositional, arbitrary and key word arguments"
   ]
  },
  {
   "cell_type": "code",
   "execution_count": 3,
   "metadata": {
    "collapsed": false
   },
   "outputs": [
    {
     "name": "stdout",
     "output_type": "stream",
     "text": [
      "a: 10\n",
      "b: 1\n",
      "c: 2 \n",
      "\n",
      "a: 10\n",
      "b: 1\n",
      "c: 20 \n",
      "\n",
      "a: 10\n",
      "b: 1\n",
      "c: 2 \n",
      "\n",
      "a: 10\n",
      "b: 1\n",
      "c: 100 \n",
      "\n"
     ]
    }
   ],
   "source": [
    "def foo(a, b = 1, c = 2):\n",
    "    print('a:', a)\n",
    "    print('b:', b)\n",
    "    print('c:', c, '\\n')\n",
    "\n",
    "foo(10)\n",
    "foo(10, c = 20)\n",
    "# Even required arument could be called using key word form\n",
    "foo(a = 10)\n",
    "\n",
    "# All arguments after key word arguments should be \n",
    "# key word arguments\n",
    "foo(c = 100, a = 10)"
   ]
  },
  {
   "cell_type": "code",
   "execution_count": 8,
   "metadata": {
    "collapsed": false
   },
   "outputs": [
    {
     "name": "stdout",
     "output_type": "stream",
     "text": [
      "a: 1\n",
      "b: 2\n",
      "args: (3, 4, 5)\n",
      "kwargs {'city': 'Wuhan'} \n",
      "\n",
      "a: 1\n",
      "b: 2\n",
      "args: (0, 1, 2)\n",
      "kwargs {'city': 'Wuhan'} \n",
      "\n"
     ]
    }
   ],
   "source": [
    "# kwargs will receive key-word arguments in the order which they\n",
    "# are defined\n",
    "def foo(a, b = 2, *args, **kwargs ):\n",
    "    print('a:', a)\n",
    "    print('b:', b)\n",
    "    print('args:', args)\n",
    "    print('kwargs', kwargs, '\\n')\n",
    "\n",
    "foo(1, 2, 3, 4, 5, city = 'Wuhan')\n",
    "foo(1, 2, *range(3), city = 'Wuhan')\n",
    "\n",
    "# Below is not right, because all arguments after key-word arguments\n",
    "# need to be key word arguments\n",
    "# foo(1, b = 2, *range(3), city = 'Wuhan')"
   ]
  },
  {
   "cell_type": "code",
   "execution_count": 11,
   "metadata": {
    "collapsed": false
   },
   "outputs": [
    {
     "name": "stdout",
     "output_type": "stream",
     "text": [
      "a: 1\n",
      "b: 2\n",
      "args: (3, 4, 5)\n",
      "city: Wuhan\n",
      "kwargs {'Age': 100} \n",
      "\n"
     ]
    }
   ],
   "source": [
    "# Required key word arguments must follow * or *args\n",
    "# So city here is required, it must be defined\n",
    "def foo(a, b = 1, *args, city, **kwargs):\n",
    "    print('a:', a)\n",
    "    print('b:', b)\n",
    "    print('args:', args)\n",
    "    print('city:', city)\n",
    "    print('kwargs', kwargs, '\\n')\n",
    "\n",
    "foo(1, 2, 3, 4, 5, city = 'Wuhan', Age = 100)"
   ]
  },
  {
   "cell_type": "code",
   "execution_count": 14,
   "metadata": {
    "collapsed": false
   },
   "outputs": [
    {
     "name": "stdout",
     "output_type": "stream",
     "text": [
      "a: 1\n",
      "b: 2\n",
      "city: Wuhan\n",
      "kwargs {'Age': 100} \n",
      "\n"
     ]
    }
   ],
   "source": [
    "# Required key word arguments must follow * or *args\n",
    "# So city here is required, it must be defined\n",
    "def foo(a, b = 1, *, city, **kwargs):\n",
    "    print('a:', a)\n",
    "    print('b:', b)\n",
    "    print('city:', city)\n",
    "    print('kwargs', kwargs, '\\n')\n",
    "\n",
    "foo(1, 2, city = 'Wuhan', Age = 100)"
   ]
  },
  {
   "cell_type": "markdown",
   "metadata": {},
   "source": [
    "Function annotations are stored in the __annotations__ attribute, and have no other side effects"
   ]
  },
  {
   "cell_type": "code",
   "execution_count": 15,
   "metadata": {
    "collapsed": false
   },
   "outputs": [
    {
     "name": "stdout",
     "output_type": "stream",
     "text": [
      "Annotations: {'a': <class 'int'>, 'name': <class 'str'>, 'return': <class 'str'>}\n",
      "100 Chong\n",
      "100Chong\n"
     ]
    }
   ],
   "source": [
    "def foo(a: int, name: str = 'Chong') -> str:\n",
    "    print('Annotations:', foo.__annotations__)\n",
    "    print(a, name)\n",
    "\n",
    "    return(str(a) + name)\n",
    "\n",
    "print(foo(100))\n"
   ]
  },
  {
   "cell_type": "code",
   "execution_count": 17,
   "metadata": {
    "collapsed": false
   },
   "outputs": [
    {
     "name": "stdout",
     "output_type": "stream",
     "text": [
      "{}\n"
     ]
    }
   ],
   "source": [
    "def foo(a, b = 10):\n",
    "    pass\n",
    "\n",
    "print(foo.__annotations__)"
   ]
  },
  {
   "cell_type": "markdown",
   "metadata": {},
   "source": [
    "List comprehension could contain multiple for and if clauses"
   ]
  },
  {
   "cell_type": "code",
   "execution_count": 21,
   "metadata": {
    "collapsed": false
   },
   "outputs": [
    {
     "name": "stdout",
     "output_type": "stream",
     "text": [
      "[(0, 2), (0, 3), (1, 2), (1, 3)]\n",
      "[(0, 2), (0, 3), (1, 2), (1, 3)]\n"
     ]
    }
   ],
   "source": [
    "a = [ (x, y) for x in range(2) for y in range(2, 4) ]\n",
    "print(a)\n",
    "# Same as below\n",
    "result = []\n",
    "for x in range(2):\n",
    "    for y in range(2, 4):\n",
    "        result.append((x, y))\n",
    "print(result)"
   ]
  },
  {
   "cell_type": "markdown",
   "metadata": {},
   "source": [
    "List comprehensions could also be nested"
   ]
  },
  {
   "cell_type": "code",
   "execution_count": 24,
   "metadata": {
    "collapsed": false
   },
   "outputs": [
    {
     "name": "stdout",
     "output_type": "stream",
     "text": [
      "[[1, 2, 3], [2, 3, 4], [3, 4, 5], [4, 5, 6]]\n"
     ]
    }
   ],
   "source": [
    "a = [[ i for i in range(j, j + 3) ] for j in range(1, 5)]\n",
    "print(a)"
   ]
  },
  {
   "cell_type": "markdown",
   "metadata": {},
   "source": [
    "del could delete elements of a list or a variable"
   ]
  },
  {
   "cell_type": "code",
   "execution_count": 27,
   "metadata": {
    "collapsed": false
   },
   "outputs": [
    {
     "name": "stdout",
     "output_type": "stream",
     "text": [
      "[1, 2, 3, 4, 5, 6, 7, 8, 9]\n",
      "[5, 6, 7, 8, 9]\n"
     ]
    },
    {
     "ename": "NameError",
     "evalue": "name 'a' is not defined",
     "output_type": "error",
     "traceback": [
      "\u001b[0;31m---------------------------------------------------------------------------\u001b[0m",
      "\u001b[0;31mNameError\u001b[0m                                 Traceback (most recent call last)",
      "\u001b[0;32m<ipython-input-27-26e7d21588cc>\u001b[0m in \u001b[0;36m<module>\u001b[0;34m()\u001b[0m\n\u001b[1;32m      5\u001b[0m \u001b[0mprint\u001b[0m\u001b[1;33m(\u001b[0m\u001b[0ma\u001b[0m\u001b[1;33m)\u001b[0m\u001b[1;33m\u001b[0m\u001b[0m\n\u001b[1;32m      6\u001b[0m \u001b[1;32mdel\u001b[0m \u001b[0ma\u001b[0m\u001b[1;33m\u001b[0m\u001b[0m\n\u001b[0;32m----> 7\u001b[0;31m \u001b[0mprint\u001b[0m\u001b[1;33m(\u001b[0m\u001b[0ma\u001b[0m\u001b[1;33m)\u001b[0m\u001b[1;33m\u001b[0m\u001b[0m\n\u001b[0m",
      "\u001b[0;31mNameError\u001b[0m: name 'a' is not defined"
     ]
    }
   ],
   "source": [
    "a = list(range(10))\n",
    "del a[0]\n",
    "print(a)\n",
    "del a[0:4]\n",
    "print(a)\n",
    "del a\n",
    "print(a)"
   ]
  },
  {
   "cell_type": "markdown",
   "metadata": {},
   "source": [
    "A tuple consists of a number of values separated by commas,\n",
    "but we normally enclose it with parenthese.\n",
    "Tuple is immutable, so we cannot assign values to elements in tuple, but tuple element itself can be mutable, for example lists."
   ]
  },
  {
   "cell_type": "code",
   "execution_count": 32,
   "metadata": {
    "collapsed": false
   },
   "outputs": [
    {
     "name": "stdout",
     "output_type": "stream",
     "text": [
      "<class 'tuple'> (1, 2, 3)\n",
      "<class 'tuple'> (1, 2, [1, 2])\n",
      "(1, 2, [100, 2])\n"
     ]
    }
   ],
   "source": [
    "a = 1, 2, 3\n",
    "print(type(a), a)\n",
    "b = (1, 2, [1, 2])\n",
    "print(type(b), b)\n",
    "b[2][0] = 100\n",
    "print(b)"
   ]
  },
  {
   "cell_type": "markdown",
   "metadata": {},
   "source": [
    "unpacking a tuple"
   ]
  },
  {
   "cell_type": "code",
   "execution_count": 33,
   "metadata": {
    "collapsed": false
   },
   "outputs": [
    {
     "name": "stdout",
     "output_type": "stream",
     "text": [
      "GOOG 1000\n"
     ]
    }
   ],
   "source": [
    "# Tuple packing\n",
    "a = 'GOOG', 1000\n",
    "# Tuple unpacking\n",
    "name, price = a\n",
    "print(name, price)"
   ]
  },
  {
   "cell_type": "code",
   "execution_count": 37,
   "metadata": {
    "collapsed": false
   },
   "outputs": [
    {
     "name": "stdout",
     "output_type": "stream",
     "text": [
      "<class 'tuple'> <class 'tuple'>\n",
      "<class 'tuple'>\n"
     ]
    }
   ],
   "source": [
    "# Empty tuple\n",
    "a = ()\n",
    "b = tuple()\n",
    "print(type(a), type(b))\n",
    "# 1 element\n",
    "c = (1,)\n",
    "print(type(c))"
   ]
  },
  {
   "cell_type": "code",
   "execution_count": 38,
   "metadata": {
    "collapsed": false
   },
   "outputs": [
    {
     "name": "stdout",
     "output_type": "stream",
     "text": [
      "1 2 3\n"
     ]
    }
   ],
   "source": [
    "# sequence unpacking works for any sequence\n",
    "a, b, c = [1, 2, 3]\n",
    "print(a, b, c)"
   ]
  },
  {
   "cell_type": "markdown",
   "metadata": {},
   "source": [
    "A set is an unordered collection with no duplicates"
   ]
  },
  {
   "cell_type": "code",
   "execution_count": 40,
   "metadata": {
    "collapsed": false
   },
   "outputs": [
    {
     "name": "stdout",
     "output_type": "stream",
     "text": [
      "<class 'set'> <class 'dict'> <class 'set'>\n"
     ]
    }
   ],
   "source": [
    "a = set()\n",
    "b = {} # Empty dictionary\n",
    "c = {1, 2, 3}\n",
    "print(type(a), type(b), type(c))"
   ]
  },
  {
   "cell_type": "markdown",
   "metadata": {},
   "source": [
    "Set supports mathematic operations like intersection, union, difference, and union."
   ]
  },
  {
   "cell_type": "code",
   "execution_count": 46,
   "metadata": {
    "collapsed": false
   },
   "outputs": [
    {
     "name": "stdout",
     "output_type": "stream",
     "text": [
      "{'c', 'd', 'a', 'b'}\n",
      "{'e', 'a', 'b'}\n",
      "{'c', 'd'}\n",
      "{'e'}\n",
      "{'c', 'd', 'e', 'a', 'b'}\n",
      "{'a', 'b'}\n",
      "{'e', 'd', 'c'}\n"
     ]
    }
   ],
   "source": [
    "a = set('abcdabcd')\n",
    "b = set('abe')\n",
    "print(a)\n",
    "print(b)\n",
    "print(a - b) # difference\n",
    "print(b - a) # difference\n",
    "print(a | b) # Union\n",
    "print(a & b) # Intersection\n",
    "print(a ^ b) # In a or b but not both"
   ]
  },
  {
   "cell_type": "code",
   "execution_count": 47,
   "metadata": {
    "collapsed": false
   },
   "outputs": [
    {
     "name": "stdout",
     "output_type": "stream",
     "text": [
      "{'c', 'd', 'a', 'b'}\n"
     ]
    }
   ],
   "source": [
    "# Set comprehension\n",
    "a = {x for x in 'abcdabcd'}\n",
    "print(a)"
   ]
  },
  {
   "cell_type": "markdown",
   "metadata": {},
   "source": [
    "Dictionary keys can be any immutable type, numbers and strings.\n",
    "Tuples can be used as keys if they contain only strings, numbers of tuples."
   ]
  },
  {
   "cell_type": "code",
   "execution_count": 51,
   "metadata": {
    "collapsed": false
   },
   "outputs": [
    {
     "name": "stdout",
     "output_type": "stream",
     "text": [
      "{1: 10, 'hello': 20, (1, 'hello'): 30}\n"
     ]
    },
    {
     "ename": "TypeError",
     "evalue": "unhashable type: 'list'",
     "output_type": "error",
     "traceback": [
      "\u001b[0;31m---------------------------------------------------------------------------\u001b[0m",
      "\u001b[0;31mTypeError\u001b[0m                                 Traceback (most recent call last)",
      "\u001b[0;32m<ipython-input-51-3b541ce1f757>\u001b[0m in \u001b[0;36m<module>\u001b[0;34m()\u001b[0m\n\u001b[1;32m     11\u001b[0m \u001b[1;33m\u001b[0m\u001b[0m\n\u001b[1;32m     12\u001b[0m \u001b[0md\u001b[0m \u001b[1;33m=\u001b[0m \u001b[1;33m(\u001b[0m\u001b[1;36m1\u001b[0m\u001b[1;33m,\u001b[0m \u001b[1;36m2\u001b[0m\u001b[1;33m,\u001b[0m \u001b[1;33m[\u001b[0m\u001b[1;36m1\u001b[0m\u001b[1;33m,\u001b[0m \u001b[1;36m2\u001b[0m\u001b[1;33m,\u001b[0m \u001b[1;36m3\u001b[0m\u001b[1;33m]\u001b[0m\u001b[1;33m)\u001b[0m \u001b[1;31m# Keys cannot be mutable in any sense.\u001b[0m\u001b[1;33m\u001b[0m\u001b[0m\n\u001b[0;32m---> 13\u001b[0;31m \u001b[0mb\u001b[0m\u001b[1;33m[\u001b[0m\u001b[0md\u001b[0m\u001b[1;33m]\u001b[0m \u001b[1;33m=\u001b[0m \u001b[1;36m10\u001b[0m\u001b[1;33m\u001b[0m\u001b[0m\n\u001b[0m",
      "\u001b[0;31mTypeError\u001b[0m: unhashable type: 'list'"
     ]
    }
   ],
   "source": [
    "a = {} # Dictionary\n",
    "b = dict()\n",
    "\n",
    "a[1] = 10\n",
    "a['hello'] = 20\n",
    "\n",
    "c = (1, 'hello')\n",
    "a[c] = 30\n",
    "\n",
    "print(a)\n",
    "\n",
    "d = (1, 2, [1, 2, 3]) # Keys cannot be mutable in any sense.\n",
    "b[d] = 10"
   ]
  },
  {
   "cell_type": "code",
   "execution_count": 58,
   "metadata": {
    "collapsed": false
   },
   "outputs": [
    {
     "name": "stdout",
     "output_type": "stream",
     "text": [
      "{'name': 'Chong', 'city': 'Wuhan'}\n",
      "{'name': 'Chong', 'city': 'Wuhan'}\n",
      "{'name': 'Chong', 'city': 'Wuhan'}\n",
      "{0: 0, 1: 1}\n"
     ]
    }
   ],
   "source": [
    "a = {'name': 'Chong', 'city': 'Wuhan'}\n",
    "# Using keyword arguments\n",
    "b = dict(name = 'Chong', city = 'Wuhan')\n",
    "c = dict([('name', 'Chong'), ('city', 'Wuhan')])\n",
    "# dict comprehension\n",
    "d = {x: x**2 for x in range(2)}\n",
    "\n",
    "print(a)\n",
    "print(b)\n",
    "print(c)\n",
    "print(d)"
   ]
  },
  {
   "cell_type": "code",
   "execution_count": 60,
   "metadata": {
    "collapsed": false
   },
   "outputs": [
    {
     "name": "stdout",
     "output_type": "stream",
     "text": [
      "name Chong\n",
      "city Wuhan\n",
      "0 apple\n",
      "1 banana\n",
      "2 cherry\n",
      "1 apple\n",
      "2 banana\n",
      "3 cherry\n"
     ]
    }
   ],
   "source": [
    "# .items(), enumerate, zip\n",
    "a = dict(name = 'Chong', city = 'Wuhan')\n",
    "for k, v in a.items():\n",
    "    print(k, v)\n",
    "b = [1, 2, 3]\n",
    "c = ['apple', 'banana', 'cherry']\n",
    "\n",
    "for idx, v in enumerate(c):\n",
    "    print(idx, v)\n",
    "\n",
    "for k, v in zip(b, c):\n",
    "    print(k, v)"
   ]
  },
  {
   "cell_type": "code",
   "execution_count": 69,
   "metadata": {
    "collapsed": false
   },
   "outputs": [
    {
     "name": "stdout",
     "output_type": "stream",
     "text": [
      "[5, 4, 3, 2, 1]\n",
      "[1, 2, 3, 4, 5]\n",
      "[1, 2, 3, 4, 5]\n",
      "[5, 4, 3, 2, 1]\n"
     ]
    }
   ],
   "source": [
    "# reversed and sorted will create a new object, and not change \n",
    "# pass-in argument\n",
    "a = [1, 2, 3, 4, 5]\n",
    "print(list(reversed(a)))\n",
    "print(a)\n",
    "a = list(reversed(a))\n",
    "print(sorted(a))\n",
    "print(a)"
   ]
  },
  {
   "cell_type": "code",
   "execution_count": 70,
   "metadata": {
    "collapsed": false
   },
   "outputs": [
    {
     "data": {
      "text/plain": [
       "False"
      ]
     },
     "execution_count": 70,
     "metadata": {},
     "output_type": "execute_result"
    }
   ],
   "source": [
    "# Comparisons can be chained\n",
    "a < b == c # Same as a < b and b == c\n",
    "# All comparison operators have the same priority, which is lower\n",
    "# than that of all numerical operators"
   ]
  },
  {
   "cell_type": "code",
   "execution_count": 71,
   "metadata": {
    "collapsed": true
   },
   "outputs": [],
   "source": [
    "# Boolean operators, or < and < not\n",
    "# so A and not B or C is the same as\n",
    "# (A and (not B)) or C"
   ]
  },
  {
   "cell_type": "code",
   "execution_count": 74,
   "metadata": {
    "collapsed": false
   },
   "outputs": [
    {
     "name": "stdout",
     "output_type": "stream",
     "text": [
      "2\n",
      "0\n"
     ]
    }
   ],
   "source": [
    "# When used as a general value and not as a Boolean, \n",
    "# the return value of a short-circuit operator is \n",
    "# the last evaluated argument.\n",
    "a = 1 and 2\n",
    "print(a)\n",
    "b = 0 and 1 and 2\n",
    "print(b)"
   ]
  },
  {
   "cell_type": "code",
   "execution_count": 78,
   "metadata": {
    "collapsed": false
   },
   "outputs": [
    {
     "name": "stdout",
     "output_type": "stream",
     "text": [
      "True\n",
      "True\n",
      "True\n"
     ]
    }
   ],
   "source": [
    "print((1, 2, 3) == (1.0, 2.0,  3.0))\n",
    "print((1, 2) < (1, 2, 3))\n",
    "print((1, 2, 3, 4) < (2, 3))"
   ]
  }
 ],
 "metadata": {
  "kernelspec": {
   "display_name": "Python 3",
   "language": "python",
   "name": "python3"
  },
  "language_info": {
   "codemirror_mode": {
    "name": "ipython",
    "version": 3
   },
   "file_extension": ".py",
   "mimetype": "text/x-python",
   "name": "python",
   "nbconvert_exporter": "python",
   "pygments_lexer": "ipython3",
   "version": "3.6.0"
  }
 },
 "nbformat": 4,
 "nbformat_minor": 2
}
