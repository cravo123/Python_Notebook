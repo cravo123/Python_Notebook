{
 "cells": [
  {
   "cell_type": "markdown",
   "metadata": {},
   "source": [
    "KMP Algorithm\n",
    "Key is computing Next array"
   ]
  },
  {
   "cell_type": "code",
   "execution_count": null,
   "metadata": {
    "collapsed": true
   },
   "outputs": [],
   "source": [
    "def Find_Sub_String(Target, Pattern):\n",
    "    # Determine Next\n",
    "    Next = list(range(len(Pattern)))\n",
    "    Next[0] = -1\n",
    "    j = 0\n",
    "    k = -1\n",
    "    while j < len(Pattern) - 1:\n",
    "        while k >= 0 and Pattern[j] != Pattern[k]:\n",
    "            k = Next[k]\n",
    "        j += 1\n",
    "        k += 1\n",
    "        Next[j] = k\n",
    "    \n",
    "    # Match\n",
    "    i = 0\n",
    "    j = 0\n",
    "    while i < len(Target) and j < len(Pattern):\n",
    "        if j == -1 or Target[i] == Pattern[j]:\n",
    "            i += 1\n",
    "            j += 1\n",
    "        else:\n",
    "            j = Next[j]\n",
    "    if j >= len(Pattern):\n",
    "        return i - j\n",
    "    else:\n",
    "        return -1\n"
   ]
  }
 ],
 "metadata": {
  "kernelspec": {
   "display_name": "Python 3",
   "language": "python",
   "name": "python3"
  },
  "language_info": {
   "codemirror_mode": {
    "name": "ipython",
    "version": 3
   },
   "file_extension": ".py",
   "mimetype": "text/x-python",
   "name": "python",
   "nbconvert_exporter": "python",
   "pygments_lexer": "ipython3",
   "version": "3.6.0"
  }
 },
 "nbformat": 4,
 "nbformat_minor": 2
}
