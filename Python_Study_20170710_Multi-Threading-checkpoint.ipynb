{
 "cells": [
  {
   "cell_type": "markdown",
   "metadata": {},
   "source": [
    "Use _thread package"
   ]
  },
  {
   "cell_type": "code",
   "execution_count": 15,
   "metadata": {
    "collapsed": false
   },
   "outputs": [
    {
     "name": "stdout",
     "output_type": "stream",
     "text": [
      "0 => 0\n",
      "0 => 1\n",
      "0 => 2\n",
      "1 => 0\n",
      "1 => 1\n",
      "1 => 2\n",
      "Main Thread ends\n"
     ]
    }
   ],
   "source": [
    "import _thread\n",
    "import sys\n",
    "\n",
    "def foo(idt):\n",
    "    for i in range(3):\n",
    "        with mutex:\n",
    "            #mutex.acquire()\n",
    "            tmp_str = str(idt) + \" => \" +  str(i)\n",
    "            print(tmp_str)\n",
    "            sys.stdout.flush()\n",
    "            #mutex.release()\n",
    "    threads[idt] = True\n",
    "    \n",
    "    return\n",
    "\n",
    "mutex = _thread.allocate_lock()\n",
    "\n",
    "threads = [ False for i in range(2) ]\n",
    "for i in range(2):\n",
    "    thread_c = _thread.start_new_thread(foo, (i, ))\n",
    "\n",
    "while False in threads:\n",
    "        pass\n",
    "print(\"Main Thread ends\")"
   ]
  },
  {
   "cell_type": "markdown",
   "metadata": {},
   "source": [
    "Use threading package to customized class"
   ]
  },
  {
   "cell_type": "code",
   "execution_count": 19,
   "metadata": {
    "collapsed": false
   },
   "outputs": [
    {
     "name": "stdout",
     "output_type": "stream",
     "text": [
      "0 => 0\n",
      "0 => 1\n",
      "0 => 2\n",
      "1 => 0\n",
      "1 => 1\n",
      "1 => 2\n",
      "Main Thread Ends.\n"
     ]
    }
   ],
   "source": [
    "import threading\n",
    "import sys\n",
    "\n",
    "class MyThread(threading.Thread):\n",
    "    def __init__(self, idt, mutex, locks):\n",
    "        self.idt = idt\n",
    "        self.mutex = mutex\n",
    "        self.locks = locks\n",
    "        threading.Thread.__init__(self)\n",
    "        \n",
    "        return\n",
    "    \n",
    "    def run(self):\n",
    "        for i in range(3):\n",
    "            tmp_str = str(self.idt) + \" => \" + str(i)\n",
    "            with self.mutex:\n",
    "                print(tmp_str)\n",
    "                sys.stdout.flush()\n",
    "        self.locks[self.idt] = True\n",
    "        \n",
    "        return\n",
    "\n",
    "mutex = threading.Lock()\n",
    "locks = [ False for i in range(2) ]\n",
    "\n",
    "for i in range(2):\n",
    "    thread_c = MyThread(i, mutex, locks)\n",
    "    thread_c.start()\n",
    "\n",
    "while False in locks:\n",
    "    pass\n",
    "\n",
    "print(\"Main Thread Ends.\")"
   ]
  },
  {
   "cell_type": "markdown",
   "metadata": {},
   "source": [
    "We can use queue package as it is multi-thread safe. Anytime there can be only one thread accessing the queue."
   ]
  },
  {
   "cell_type": "code",
   "execution_count": null,
   "metadata": {
    "collapsed": true
   },
   "outputs": [],
   "source": []
  }
 ],
 "metadata": {
  "kernelspec": {
   "display_name": "Python 3",
   "language": "python",
   "name": "python3"
  },
  "language_info": {
   "codemirror_mode": {
    "name": "ipython",
    "version": 3
   },
   "file_extension": ".py",
   "mimetype": "text/x-python",
   "name": "python",
   "nbconvert_exporter": "python",
   "pygments_lexer": "ipython3",
   "version": "3.6.0"
  }
 },
 "nbformat": 4,
 "nbformat_minor": 2
}
